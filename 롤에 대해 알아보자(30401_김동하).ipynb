{
 "cells": [
  {
   "cell_type": "markdown",
   "metadata": {
    "id": "C_SIFVIs5vbz"
   },
   "source": [
    "# 롤에 대해 알아보자\n",
    "- 학번 : 30401\n",
    "- 이름 : 김동하\n",
    "\n",
    "## 1. 주제\n",
    "- 질문 \n",
    "    유명한 온라인 게임인 리그 오브 레전드(LOL)의 포지션별 챔피언의 수와 챔피언들의 승률과 픽률이 어떻게 되고, 승률과 픽률 사이에서의 관계가 어떻게 될까\n",
    "\n",
    "## 2. 데이터 수집\n",
    "- 데이터 수집 방법 : 웹크롤링\n",
    "- 데이터 수집 사이트 : https://www.op.gg/champion/statistics"
   ]
  },
  {
   "cell_type": "code",
   "execution_count": 87,
   "metadata": {
    "id": "acuKAvBe5vb-"
   },
   "outputs": [],
   "source": [
    "# 데이터 가져오기\n",
    "import pandas as pd # alias\n",
    "df = pd.read_csv('LOL_info.csv')"
   ]
  },
  {
   "cell_type": "markdown",
   "metadata": {
    "id": "74MUwz9k5vb_"
   },
   "source": [
    "## 3. 탐색적 데이터 분석 과정\n",
    "\n",
    "#### 표를 활용하여 분석하기"
   ]
  },
  {
   "cell_type": "code",
   "execution_count": 342,
   "metadata": {
    "id": "0xJ8o8z35vcA",
    "scrolled": true
   },
   "outputs": [
    {
     "data": {
      "text/html": [
       "<div>\n",
       "<style scoped>\n",
       "    .dataframe tbody tr th:only-of-type {\n",
       "        vertical-align: middle;\n",
       "    }\n",
       "\n",
       "    .dataframe tbody tr th {\n",
       "        vertical-align: top;\n",
       "    }\n",
       "\n",
       "    .dataframe thead th {\n",
       "        text-align: right;\n",
       "    }\n",
       "</style>\n",
       "<table border=\"1\" class=\"dataframe\">\n",
       "  <thead>\n",
       "    <tr style=\"text-align: right;\">\n",
       "      <th></th>\n",
       "      <th>챔피언 이름</th>\n",
       "      <th>챔피언 영어 이름</th>\n",
       "      <th>포지션</th>\n",
       "      <th>픽률(%)</th>\n",
       "      <th>승률(%)</th>\n",
       "    </tr>\n",
       "  </thead>\n",
       "  <tbody>\n",
       "    <tr>\n",
       "      <th>139</th>\n",
       "      <td>탐 켄치</td>\n",
       "      <td>tahmkench</td>\n",
       "      <td>원딜</td>\n",
       "      <td>0.72</td>\n",
       "      <td>53.54</td>\n",
       "    </tr>\n",
       "    <tr>\n",
       "      <th>88</th>\n",
       "      <td>엘리스</td>\n",
       "      <td>elise</td>\n",
       "      <td>정글</td>\n",
       "      <td>12.37</td>\n",
       "      <td>53.30</td>\n",
       "    </tr>\n",
       "    <tr>\n",
       "      <th>77</th>\n",
       "      <td>아이번</td>\n",
       "      <td>ivern</td>\n",
       "      <td>정글</td>\n",
       "      <td>0.94</td>\n",
       "      <td>53.28</td>\n",
       "    </tr>\n",
       "    <tr>\n",
       "      <th>76</th>\n",
       "      <td>아우렐리온 솔</td>\n",
       "      <td>aurelionsol</td>\n",
       "      <td>미드</td>\n",
       "      <td>0.66</td>\n",
       "      <td>53.14</td>\n",
       "    </tr>\n",
       "    <tr>\n",
       "      <th>44</th>\n",
       "      <td>베이가</td>\n",
       "      <td>veigar</td>\n",
       "      <td>미드</td>\n",
       "      <td>0.88</td>\n",
       "      <td>53.13</td>\n",
       "    </tr>\n",
       "  </tbody>\n",
       "</table>\n",
       "</div>"
      ],
      "text/plain": [
       "      챔피언 이름    챔피언 영어 이름 포지션  픽률(%)  승률(%)\n",
       "139     탐 켄치    tahmkench  원딜   0.72  53.54\n",
       "88       엘리스        elise  정글  12.37  53.30\n",
       "77       아이번        ivern  정글   0.94  53.28\n",
       "76   아우렐리온 솔  aurelionsol  미드   0.66  53.14\n",
       "44       베이가       veigar  미드   0.88  53.13"
      ]
     },
     "execution_count": 342,
     "metadata": {},
     "output_type": "execute_result"
    }
   ],
   "source": [
    "#포지션 전체에서의 승률 순위\n",
    "\n",
    "df.sort_values(by=['승률(%)'], ascending=False).head()"
   ]
  },
  {
   "cell_type": "code",
   "execution_count": 240,
   "metadata": {
    "scrolled": true
   },
   "outputs": [
    {
     "data": {
      "text/html": [
       "<div>\n",
       "<style scoped>\n",
       "    .dataframe tbody tr th:only-of-type {\n",
       "        vertical-align: middle;\n",
       "    }\n",
       "\n",
       "    .dataframe tbody tr th {\n",
       "        vertical-align: top;\n",
       "    }\n",
       "\n",
       "    .dataframe thead th {\n",
       "        text-align: right;\n",
       "    }\n",
       "</style>\n",
       "<table border=\"1\" class=\"dataframe\">\n",
       "  <thead>\n",
       "    <tr style=\"text-align: right;\">\n",
       "      <th></th>\n",
       "      <th>챔피언 이름</th>\n",
       "      <th>챔피언 영어 이름</th>\n",
       "      <th>포지션</th>\n",
       "      <th>픽률(%)</th>\n",
       "      <th>승률(%)</th>\n",
       "    </tr>\n",
       "  </thead>\n",
       "  <tbody>\n",
       "    <tr>\n",
       "      <th>122</th>\n",
       "      <td>카이사</td>\n",
       "      <td>kaisa</td>\n",
       "      <td>원딜</td>\n",
       "      <td>34.54</td>\n",
       "      <td>49.78</td>\n",
       "    </tr>\n",
       "    <tr>\n",
       "      <th>101</th>\n",
       "      <td>이즈리얼</td>\n",
       "      <td>ezreal</td>\n",
       "      <td>원딜</td>\n",
       "      <td>30.10</td>\n",
       "      <td>48.41</td>\n",
       "    </tr>\n",
       "    <tr>\n",
       "      <th>115</th>\n",
       "      <td>징크스</td>\n",
       "      <td>jinx</td>\n",
       "      <td>원딜</td>\n",
       "      <td>25.43</td>\n",
       "      <td>51.95</td>\n",
       "    </tr>\n",
       "    <tr>\n",
       "      <th>73</th>\n",
       "      <td>쓰레쉬</td>\n",
       "      <td>thresh</td>\n",
       "      <td>서폿</td>\n",
       "      <td>24.88</td>\n",
       "      <td>52.12</td>\n",
       "    </tr>\n",
       "    <tr>\n",
       "      <th>29</th>\n",
       "      <td>리 신</td>\n",
       "      <td>leesin</td>\n",
       "      <td>정글</td>\n",
       "      <td>23.47</td>\n",
       "      <td>49.16</td>\n",
       "    </tr>\n",
       "  </tbody>\n",
       "</table>\n",
       "</div>"
      ],
      "text/plain": [
       "    챔피언 이름 챔피언 영어 이름 포지션  픽률(%)  승률(%)\n",
       "122    카이사     kaisa  원딜  34.54  49.78\n",
       "101   이즈리얼    ezreal  원딜  30.10  48.41\n",
       "115    징크스      jinx  원딜  25.43  51.95\n",
       "73     쓰레쉬    thresh  서폿  24.88  52.12\n",
       "29     리 신    leesin  정글  23.47  49.16"
      ]
     },
     "execution_count": 240,
     "metadata": {},
     "output_type": "execute_result"
    }
   ],
   "source": [
    "# 포지션 전체에서의 픽률 순위\n",
    "\n",
    "df.sort_values(by=['픽률(%)'], ascending=False).head()"
   ]
  },
  {
   "cell_type": "markdown",
   "metadata": {
    "id": "1vFfxEpZ5vcA"
   },
   "source": [
    "#### 그래프를 활용하여 분석하기"
   ]
  },
  {
   "cell_type": "code",
   "execution_count": 343,
   "metadata": {
    "id": "RBQuakmG5vcA"
   },
   "outputs": [
    {
     "data": {
      "image/png": "[encoded data removed]",
      "text/plain": [
       "<Figure size 432x288 with 1 Axes>"
      ]
     },
     "metadata": {
      "needs_background": "light"
     },
     "output_type": "display_data"
    },
    {
     "data": {
      "image/png": "[encoded data removed]",
      "text/plain": [
       "<Figure size 1080x360 with 1 Axes>"
      ]
     },
     "metadata": {
      "needs_background": "light"
     },
     "output_type": "display_data"
    },
    {
     "data": {
      "image/png": "[encoded data removed]",
      "text/plain": [
       "<Figure size 1080x360 with 1 Axes>"
      ]
     },
     "metadata": {
      "needs_background": "light"
     },
     "output_type": "display_data"
    }
   ],
   "source": [
    "import pandas as pd # pandas를 pd라는 이름으로 사용\n",
    "import matplotlib.pyplot as plt # matplotlib.pyplot를 plt라는 이름으로  사용\n",
    "from pandas import Series, DataFrame\n",
    "from operator import itemgetter\n",
    "\n",
    "\n",
    "# -- 파일 불러오고, 폰트 설정 -- #\n",
    "\n",
    "df = pd.read_csv('LOL_info.csv')\n",
    "plt.rc('font', family='Malgun Gothic')\n",
    "\n",
    "# ------------------------------ #\n",
    "\n",
    "\n",
    "\n",
    "# -- 포지션별로 리스트에 담기 -- #\n",
    "\n",
    "total = []\n",
    "df_toplane = []\n",
    "df_jglane = []\n",
    "df_midlane = []\n",
    "df_botlane = []\n",
    "df_supplane = []\n",
    "cnt = 0\n",
    "\n",
    "for i in df['포지션']:\n",
    "    tmp_list = []\n",
    "    \n",
    "    # 이름 가져오기\n",
    "    tmp = str(df.iloc[[cnt],[0]])\n",
    "    tmp = tmp.replace(f'챔피언 이름\\n{cnt}','')\n",
    "    tmp = tmp.strip()\n",
    "    tmp_list.append(tmp)\n",
    "    \n",
    "    # 픽률 가져오기 \n",
    "    tmp = str(df.iloc[[cnt],[3]])\n",
    "    tmp = tmp.replace(f'픽률(%)\\n{cnt}','')\n",
    "    tmp = tmp.strip()\n",
    "    tmp_list.append(tmp)\n",
    "    \n",
    "    # 승률 가져오기\n",
    "    tmp = str(df.iloc[[cnt],[4]])\n",
    "    tmp = tmp.replace(f'승률(%)\\n{cnt}','')\n",
    "    tmp = tmp.strip()\n",
    "    tmp_list.append(tmp)\n",
    "    \n",
    "    # 각 포지션별로 리스트에 저장\n",
    "    if(i == '탑'):\n",
    "        df_toplane.append(tmp_list)\n",
    "    elif(i == '정글'):\n",
    "        df_jglane.append(tmp_list)\n",
    "    elif(i == '미드'):\n",
    "        df_midlane.append(tmp_list)\n",
    "    elif(i == '원딜'):\n",
    "        df_botlane.append(tmp_list)\n",
    "    elif(i == '서폿'):\n",
    "        df_supplane.append(tmp_list)\n",
    "    cnt+=1\n",
    "\n",
    "total.append(df_toplane)\n",
    "total.append(df_jglane)\n",
    "total.append(df_midlane)\n",
    "total.append(df_botlane)\n",
    "total.append(df_supplane)\n",
    "\n",
    "# ------------------------------ #\n",
    "\n",
    "\n",
    "\n",
    "# ----- 포지션별 챔피언 수 ----- #\n",
    "\n",
    "champ_amount = []\n",
    "\n",
    "# 리스트에 각 포지션별 챔피언 수 저장\n",
    "for i in range(0,5):\n",
    "    champ_amount.append(len(total[i]))\n",
    "\n",
    "# 그래프 그리기\n",
    "plt.bar(range(5),champ_amount,width=0.6, color = \"#3AAFDC\")\n",
    "plt.title('포지션별 챔피언 수',fontsize=15)\n",
    "plt.xlabel('포지션')\n",
    "plt.ylabel('챔피언 수(개)')\n",
    "plt.xticks(range(5),['탑', '정글','미드','원딜','서폿'])\n",
    "for i in range(0,5):\n",
    "    plt.text(i, champ_amount[i], str(champ_amount[i]),fontsize=11,horizontalalignment='center',verticalalignment='bottom')\n",
    "plt.ylim(5, 40)\n",
    "plt.show()\n",
    "\n",
    "# ------------------------------ #\n",
    "\n",
    "\n",
    "\n",
    "# -- 라인별 챔피언 픽률그래프 -- #\n",
    "\n",
    "# 그래프의 크기 조정\n",
    "plt.figure(figsize=(15,5))\n",
    "\n",
    "# 포지션별로 그래프를 그릴 수 있게 반복문을 돌려줌\n",
    "for i in range(len(total)):\n",
    "    pick = []\n",
    "    pick_rate = [] # 그래프를 그릴 때 사용\n",
    "    \n",
    "    # pick 리스트에 챔피언의 이름과 픽률만 따로 저장\n",
    "    for j in range(len(total[i])):\n",
    "        tmp = []\n",
    "        tmp.append(total[i][j][0])\n",
    "        tmp.append(float(total[i][j][1]))\n",
    "        pick.append(tmp)\n",
    "    \n",
    "    # 픽률이 높은 순서로 정렬하기\n",
    "    pick.sort(key=itemgetter(1), reverse = True)\n",
    "    \n",
    "    # pick_rate에 상위 3개의 값만 저장\n",
    "    for j in range(len(pick)):\n",
    "        pick_rate.append(pick[j][1])\n",
    "    pick_rate = pick_rate[0:3]\n",
    "    \n",
    "    # 그래프와 그래프 사이의 간격\n",
    "    pick_rate.append(0)\n",
    "    \n",
    "    # 그래프 그리기\n",
    "    plt.bar(range(i*4,i*4+4),pick_rate, width=1.0, color = ['#D1B2FF','#CEF279','#B2CCFF'])\n",
    "    plt.title('포지션별 챔피언 픽률',fontsize=15)\n",
    "    plt.xlabel('포지션(1등,2등,3등)')\n",
    "    plt.ylabel('픽률(%)')\n",
    "    plt.xticks(range(1, 20, 4),['탑','정글','미드','원딜','서폿'])\n",
    "    for j in range(0,4):\n",
    "        if (j == 3):break\n",
    "        plt.text(j+i*4,pick_rate[j],str(pick[j][0])+'\\n( '+str(pick[j][1])+'% )',fontsize=9,horizontalalignment='center',verticalalignment='bottom')\n",
    "plt.ylim(5.5, 37.5)\n",
    "plt.show()\n",
    "\n",
    "# ------------------------------ #\n",
    "\n",
    "\n",
    "\n",
    "\n",
    "# ---라인별 챔피언 승률그래프--- #\n",
    "\n",
    "# 그래프의 크기 조정\n",
    "plt.figure(figsize=(15,5))\n",
    "\n",
    "# 포지션별로 그래프를 그릴 수 있게 반복문을 돌려줌\n",
    "for i in range(len(total)):\n",
    "    win = []\n",
    "    win_rate = [] # 그래프를 그릴 때 사용\n",
    "    \n",
    "    for j in range(len(total[i])):\n",
    "        tmp = []\n",
    "        tmp.append(total[i][j][0])\n",
    "        tmp.append(float(total[i][j][2]))\n",
    "        win.append(tmp)\n",
    "        \n",
    "    # 승률이 높은 순서대로 정렬\n",
    "    win.sort(key = lambda x: x[1], reverse = True)\n",
    "    \n",
    "    # win_rate에 가장 승률이 높은 값, 낮은 값을 넣어준다.\n",
    "    win_rate.append(win[0][1])\n",
    "    win_rate.append(win[-1][1])\n",
    "    \n",
    "    # 그래프와 그래프 사이의 간격\n",
    "    win_rate.append(0)\n",
    "    \n",
    "    # 그래프 그리기\n",
    "    plt.bar(range(i*3,i*3+3),win_rate, width=1.0, color = ['#FF4848','#489CFF'])\n",
    "    plt.title('포지션별 챔피언 승률',fontsize=15)\n",
    "    plt.xlabel('포지션(1등, 꼴등)')\n",
    "    plt.ylabel('승률(%)')\n",
    "    plt.xticks(range(1, 15, 3),['탑','정글','미드','원딜','서폿'])\n",
    "    for j in range(0,3):\n",
    "        tmp = j\n",
    "        if(j==2):break\n",
    "        elif(j==1): tmp = -1\n",
    "        plt.text(j+i*3,win_rate[j],str(win[tmp][0])+'\\n( '+str(win[tmp][1])+'% )',fontsize=9,horizontalalignment='center',verticalalignment='bottom')\n",
    "\n",
    "plt.ylim(35.7, 55.7)\n",
    "plt.show()\n",
    "\n",
    "# ------------------------------ #"
   ]
  },
  {
   "cell_type": "markdown",
   "metadata": {
    "id": "aX8Jmseb5vcA"
   },
   "source": [
    "## 4. 결론\n",
    "\n",
    "- 질문에 대한 답\n",
    "\n",
    "1. 포지션 별 챔피언 수는 정글이 36개로 가장 많고, 원딜이 20개로 가장 적다.\n",
    "2. 원딜은 챔피언 수가 적어서 1, 2, 3위가 모두 20%를 넘는다는 것을 알 수 있다.\n",
    "3. 포지션별 챔피언 승률 그래프를 보면, 모든 챔피언들의 승률이 40~60% 정도로 차이가 크지 않은 점을 보면 밸런스가 잘 맞다고 볼 수 있다.\n",
    "4. 픽률이 가장 많은 챔피언과 승률이 가장 높은 챔피언이 같지 않다는 점을 미루어보면 사람들은 굳이 승률이 챔피언만을 골라서 하지 않는다는 결과를 알 수 있다."
   ]
  },
  {
   "cell_type": "code",
   "execution_count": null,
   "metadata": {},
   "outputs": [],
   "source": []
  }
 ],
 "metadata": {
  "colab": {
   "name": "프로젝트 이름(학번_이름).ipynb의 사본",
   "provenance": [
    {
     "file_id": "1j1_qnnCv1CXvKwJ3ABoIqOIKzh7orFYt",
     "timestamp": 1617858855002
    }
   ]
  },
  "kernelspec": {
   "display_name": "Python 3",
   "language": "python",
   "name": "python3"
  },
  "language_info": {
   "codemirror_mode": {
    "name": "ipython",
    "version": 3
   },
   "file_extension": ".py",
   "mimetype": "text/x-python",
   "name": "python",
   "nbconvert_exporter": "python",
   "pygments_lexer": "ipython3",
   "version": "3.8.5"
  }
 },
 "nbformat": 4,
 "nbformat_minor": 1
}