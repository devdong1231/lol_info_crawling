{
 "cells": [
  {
   "cell_type": "markdown",
   "metadata": {
    "id": "C_SIFVIs5vbz"
   },
   "source": [
    "# 프로젝트 이름\n",
    "- 학번 : 30401\n",
    "- 이름 : 김동하\n",
    "\n",
    "## 1. 주제\n",
    "- 질문 \n",
    "\n",
    "## 2. 데이터 수집\n",
    "- 데이터 수집 방법 : 웹크롤링\n",
    "- 데이터 수집 사이트 : https://www.op.gg/champion/statistics"
   ]
  },
  {
   "cell_type": "code",
   "execution_count": 1,
   "metadata": {
    "id": "acuKAvBe5vb-"
   },
   "outputs": [],
   "source": [
    "# 데이터 가져오기\n",
    "import pandas as pd\n",
    "df = pd.read_csv('LOL_info.csv')"
   ]
  },
  {
   "cell_type": "markdown",
   "metadata": {
    "id": "74MUwz9k5vb_"
   },
   "source": [
    "## 3. 탐색적 데이터 분석 과정\n",
    "\n",
    "#### 표를 활용하여 분석하기"
   ]
  },
  {
   "cell_type": "code",
   "execution_count": 2,
   "metadata": {
    "id": "0xJ8o8z35vcA"
   },
   "outputs": [
    {
     "data": {
      "text/html": [
       "<div>\n",
       "<style scoped>\n",
       "    .dataframe tbody tr th:only-of-type {\n",
       "        vertical-align: middle;\n",
       "    }\n",
       "\n",
       "    .dataframe tbody tr th {\n",
       "        vertical-align: top;\n",
       "    }\n",
       "\n",
       "    .dataframe thead th {\n",
       "        text-align: right;\n",
       "    }\n",
       "</style>\n",
       "<table border=\"1\" class=\"dataframe\">\n",
       "  <thead>\n",
       "    <tr style=\"text-align: right;\">\n",
       "      <th></th>\n",
       "      <th>챔피언 이름</th>\n",
       "      <th>챔피언 영어 이름</th>\n",
       "      <th>포지션</th>\n",
       "      <th>픽률</th>\n",
       "      <th>승률</th>\n",
       "    </tr>\n",
       "  </thead>\n",
       "  <tbody>\n",
       "    <tr>\n",
       "      <th>0</th>\n",
       "      <td>가렌</td>\n",
       "      <td>garen</td>\n",
       "      <td>Top</td>\n",
       "      <td>3.63%</td>\n",
       "      <td>49.61%</td>\n",
       "    </tr>\n",
       "    <tr>\n",
       "      <th>1</th>\n",
       "      <td>갈리오</td>\n",
       "      <td>galio</td>\n",
       "      <td>Middle</td>\n",
       "      <td>5.9%</td>\n",
       "      <td>53.05%</td>\n",
       "    </tr>\n",
       "    <tr>\n",
       "      <th>2</th>\n",
       "      <td>갱플랭크</td>\n",
       "      <td>gangplank</td>\n",
       "      <td>Top</td>\n",
       "      <td>4.1%</td>\n",
       "      <td>49.63%</td>\n",
       "    </tr>\n",
       "  </tbody>\n",
       "</table>\n",
       "</div>"
      ],
      "text/plain": [
       "  챔피언 이름  챔피언 영어 이름     포지션     픽률      승률\n",
       "0     가렌      garen     Top  3.63%  49.61%\n",
       "1    갈리오      galio  Middle   5.9%  53.05%\n",
       "2   갱플랭크  gangplank     Top   4.1%  49.63%"
      ]
     },
     "execution_count": 2,
     "metadata": {},
     "output_type": "execute_result"
    }
   ],
   "source": [
    "# pandas 활용\n",
    "df.head(3)"
   ]
  },
  {
   "cell_type": "markdown",
   "metadata": {
    "id": "1vFfxEpZ5vcA"
   },
   "source": [
    "#### 그래프를 활용하여 분석하기"
   ]
  },
  {
   "cell_type": "code",
   "execution_count": null,
   "metadata": {
    "id": "RBQuakmG5vcA"
   },
   "outputs": [],
   "source": [
    "# matplotlib, seaborn 등 활용\n",
    "\n",
    "# 자살률이 높은 국가 그래프, 연도 그래프, 연령 그래프\n",
    "import pandas as pd # pandas를 pd라는 이름으로 사용\n",
    "import matplotlib.pyplot as plt # matplotlib.pyplot를 plt라는 이름으로  사용\n",
    "from pandas import Series, DataFrame\n",
    "\n",
    "df = pd.read_csv('master.csv') # master.csv파일 불러오기\n",
    "\n",
    "\n",
    "df_country = {}\n",
    "country_name = [0 for i in range(101)] # 나라 이름들을 담는 리스트\n",
    "country_amount = [0 for i in range(101)] # 한 나라의 값을 가지고 있는 데이터의 개수를 담는 리스트\n",
    "cnt = 0\n",
    "temp = 'Albania'\n",
    "\n",
    "\n",
    "for i in df['country']:\n",
    "    if i== temp:\n",
    "        country_amount[cnt] += 1\n",
    "    else:\n",
    "        country_name[cnt] = temp\n",
    "        cnt += 1\n",
    "        temp = i\n",
    "country_name[cnt] = temp\n",
    "\n",
    "\n",
    "for i in range(101):\n",
    "    df_country[country_name[i]] = country_amount[i]\n",
    "cnt = 0\n",
    "for y, v in sorted(df_country.items(), key=lambda x:x[1], reverse = True):\n",
    "    country_name[cnt] = y\n",
    "    country_amount[cnt] = v\n",
    "    cnt+=1\n",
    "country_name = country_name[0:10]\n",
    "country_amount = country_amount[0:10]\n",
    "print(country_name)\n",
    "print(country_amount)\n",
    "\n",
    "plt.bar(country_name, country_amount, width=0.6)\n",
    "plt.xticks(rotation = -45)\n",
    "plt.ylim([310, 400])\n",
    "plt.yticks([350, 360, 370, 380, 390, 400])"
   ]
  },
  {
   "cell_type": "markdown",
   "metadata": {
    "id": "aX8Jmseb5vcA"
   },
   "source": [
    "## 4. 결론\n",
    "- 질문에 대한 답"
   ]
  }
 ],
 "metadata": {
  "colab": {
   "name": "프로젝트 이름(학번_이름).ipynb의 사본",
   "provenance": [
    {
     "file_id": "1j1_qnnCv1CXvKwJ3ABoIqOIKzh7orFYt",
     "timestamp": 1617858855002
    }
   ]
  },
  "kernelspec": {
   "display_name": "Python 3",
   "language": "python",
   "name": "python3"
  },
  "language_info": {
   "codemirror_mode": {
    "name": "ipython",
    "version": 3
   },
   "file_extension": ".py",
   "mimetype": "text/x-python",
   "name": "python",
   "nbconvert_exporter": "python",
   "pygments_lexer": "ipython3",
   "version": "3.8.5"
  }
 },
 "nbformat": 4,
 "nbformat_minor": 1
}
