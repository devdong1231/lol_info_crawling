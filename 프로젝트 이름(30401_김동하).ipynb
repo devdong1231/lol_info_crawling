{
 "cells": [
  {
   "cell_type": "markdown",
   "metadata": {
    "id": "C_SIFVIs5vbz"
   },
   "source": [
    "# 프로젝트 이름\n",
    "- 학번 : 30401\n",
    "- 이름 : 김동하\n",
    "\n",
    "## 1. 주제\n",
    "- 질문 \n",
    "    오랜기간동안 사람들이 많이 플레이 해 온 게임인 리그 오브 레전드(LOL)의 챔피언들의 승률과 픽률은 각각 어떻게 될 것인가\n",
    "\n",
    "## 2. 데이터 수집\n",
    "- 데이터 수집 방법 : 웹크롤링\n",
    "- 데이터 수집 사이트 : https://www.op.gg/champion/statistics"
   ]
  },
  {
   "cell_type": "code",
   "execution_count": 8,
   "metadata": {
    "id": "acuKAvBe5vb-"
   },
   "outputs": [],
   "source": [
    "# 데이터 가져오기\n",
    "import pandas as pd # alias\n",
    "df = pd.read_csv('LOL_info.csv')"
   ]
  },
  {
   "cell_type": "markdown",
   "metadata": {
    "id": "74MUwz9k5vb_"
   },
   "source": [
    "## 3. 탐색적 데이터 분석 과정\n",
    "\n",
    "#### 표를 활용하여 분석하기"
   ]
  },
  {
   "cell_type": "code",
   "execution_count": 9,
   "metadata": {
    "id": "0xJ8o8z35vcA"
   },
   "outputs": [
    {
     "data": {
      "text/html": [
       "<div>\n",
       "<style scoped>\n",
       "    .dataframe tbody tr th:only-of-type {\n",
       "        vertical-align: middle;\n",
       "    }\n",
       "\n",
       "    .dataframe tbody tr th {\n",
       "        vertical-align: top;\n",
       "    }\n",
       "\n",
       "    .dataframe thead th {\n",
       "        text-align: right;\n",
       "    }\n",
       "</style>\n",
       "<table border=\"1\" class=\"dataframe\">\n",
       "  <thead>\n",
       "    <tr style=\"text-align: right;\">\n",
       "      <th></th>\n",
       "      <th>챔피언 이름</th>\n",
       "      <th>챔피언 영어 이름</th>\n",
       "      <th>포지션</th>\n",
       "      <th>픽률(%)</th>\n",
       "      <th>승률(%)</th>\n",
       "    </tr>\n",
       "  </thead>\n",
       "  <tbody>\n",
       "    <tr>\n",
       "      <th>0</th>\n",
       "      <td>가렌</td>\n",
       "      <td>garen</td>\n",
       "      <td>탑</td>\n",
       "      <td>3.63</td>\n",
       "      <td>49.61</td>\n",
       "    </tr>\n",
       "    <tr>\n",
       "      <th>1</th>\n",
       "      <td>갈리오</td>\n",
       "      <td>galio</td>\n",
       "      <td>미드</td>\n",
       "      <td>5.90</td>\n",
       "      <td>53.05</td>\n",
       "    </tr>\n",
       "    <tr>\n",
       "      <th>2</th>\n",
       "      <td>갱플랭크</td>\n",
       "      <td>gangplank</td>\n",
       "      <td>탑</td>\n",
       "      <td>4.10</td>\n",
       "      <td>49.63</td>\n",
       "    </tr>\n",
       "    <tr>\n",
       "      <th>3</th>\n",
       "      <td>그라가스</td>\n",
       "      <td>gragas</td>\n",
       "      <td>서폿</td>\n",
       "      <td>2.66</td>\n",
       "      <td>49.54</td>\n",
       "    </tr>\n",
       "    <tr>\n",
       "      <th>4</th>\n",
       "      <td>그레이브즈</td>\n",
       "      <td>graves</td>\n",
       "      <td>정글</td>\n",
       "      <td>11.50</td>\n",
       "      <td>46.67</td>\n",
       "    </tr>\n",
       "    <tr>\n",
       "      <th>...</th>\n",
       "      <td>...</td>\n",
       "      <td>...</td>\n",
       "      <td>...</td>\n",
       "      <td>...</td>\n",
       "      <td>...</td>\n",
       "    </tr>\n",
       "    <tr>\n",
       "      <th>148</th>\n",
       "      <td>피들스틱</td>\n",
       "      <td>fiddlesticks</td>\n",
       "      <td>정글</td>\n",
       "      <td>3.47</td>\n",
       "      <td>52.73</td>\n",
       "    </tr>\n",
       "    <tr>\n",
       "      <th>149</th>\n",
       "      <td>피오라</td>\n",
       "      <td>fiora</td>\n",
       "      <td>탑</td>\n",
       "      <td>7.55</td>\n",
       "      <td>49.43</td>\n",
       "    </tr>\n",
       "    <tr>\n",
       "      <th>150</th>\n",
       "      <td>피즈</td>\n",
       "      <td>fizz</td>\n",
       "      <td>미드</td>\n",
       "      <td>4.07</td>\n",
       "      <td>50.44</td>\n",
       "    </tr>\n",
       "    <tr>\n",
       "      <th>151</th>\n",
       "      <td>하이머딩거</td>\n",
       "      <td>heimerdinger</td>\n",
       "      <td>탑</td>\n",
       "      <td>1.08</td>\n",
       "      <td>51.82</td>\n",
       "    </tr>\n",
       "    <tr>\n",
       "      <th>152</th>\n",
       "      <td>헤카림</td>\n",
       "      <td>hecarim</td>\n",
       "      <td>정글</td>\n",
       "      <td>14.71</td>\n",
       "      <td>51.88</td>\n",
       "    </tr>\n",
       "  </tbody>\n",
       "</table>\n",
       "<p>153 rows × 5 columns</p>\n",
       "</div>"
      ],
      "text/plain": [
       "    챔피언 이름     챔피언 영어 이름 포지션  픽률(%)  승률(%)\n",
       "0       가렌         garen   탑   3.63  49.61\n",
       "1      갈리오         galio  미드   5.90  53.05\n",
       "2     갱플랭크     gangplank   탑   4.10  49.63\n",
       "3     그라가스        gragas  서폿   2.66  49.54\n",
       "4    그레이브즈        graves  정글  11.50  46.67\n",
       "..     ...           ...  ..    ...    ...\n",
       "148   피들스틱  fiddlesticks  정글   3.47  52.73\n",
       "149    피오라         fiora   탑   7.55  49.43\n",
       "150     피즈          fizz  미드   4.07  50.44\n",
       "151  하이머딩거  heimerdinger   탑   1.08  51.82\n",
       "152    헤카림       hecarim  정글  14.71  51.88\n",
       "\n",
       "[153 rows x 5 columns]"
      ]
     },
     "execution_count": 9,
     "metadata": {},
     "output_type": "execute_result"
    }
   ],
   "source": [
    "# pandas 활용\n",
    "df"
   ]
  },
  {
   "cell_type": "markdown",
   "metadata": {
    "id": "1vFfxEpZ5vcA"
   },
   "source": [
    "#### 그래프를 활용하여 분석하기"
   ]
  },
  {
   "cell_type": "code",
   "execution_count": null,
   "metadata": {
    "id": "RBQuakmG5vcA"
   },
   "outputs": [],
   "source": [
    "# matplotlib, seaborn 등 활용\n",
    "\n",
    "\n",
    "\n",
    "# 라인별 챔피언 픽률그래프, 승률그래프\n",
    "\n",
    "import pandas as pd # pandas를 pd라는 이름으로 사용\n",
    "import matplotlib.pyplot as plt # matplotlib.pyplot를 plt라는 이름으로  사용\n",
    "from pandas import Series, DataFrame\n",
    "\n",
    "df_toplane = []\n",
    "df_jglane = []\n",
    "df_midlane = []\n",
    "df_botlane = []\n",
    "df_supplane = []\n",
    "\n",
    "for i in df['포지션']:\n",
    "    tmp = []\n",
    "    tmp.append(df['챔피언 이름'])\n",
    "    tmp.append(df['픽률(%)'])\n",
    "    tmp.append(df['승률(%)'])\n",
    "    if i == '탑' : df_toplane.append(tmp)\n",
    "    elif i == '정글' : df_jglane.append(tmp)\n",
    "    elif i == '미드' : df.midlane.append(tmp)\n",
    "    elif i == '원딜' : df_botlane.append(tmp)\n",
    "    elif i == '서폿' : df_supplane.append(tmp)\n",
    "\n",
    "\n",
    "df_country = {}\n",
    "country_name = [0 for i in range(101)] # 나라 이름들을 담는 리스트\n",
    "country_amount = [0 for i in range(101)] # 한 나라의 값을 가지고 있는 데이터의 개수를 담는 리스트\n",
    "cnt = 0\n",
    "temp = 'Albania'\n",
    "\n",
    "\n",
    "for i in df['country']:\n",
    "    if i== temp:\n",
    "        country_amount[cnt] += 1\n",
    "    else:\n",
    "        country_name[cnt] = temp\n",
    "        cnt += 1\n",
    "        temp = i\n",
    "country_name[cnt] = temp\n",
    "\n",
    "\n",
    "for i in range(101):\n",
    "    df_country[country_name[i]] = country_amount[i]\n",
    "cnt = 0\n",
    "for y, v in sorted(df_country.items(), key=lambda x:x[1], reverse = True):\n",
    "    country_name[cnt] = y\n",
    "    country_amount[cnt] = v\n",
    "    cnt+=1\n",
    "country_name = country_name[0:10]\n",
    "country_amount = country_amount[0:10]\n",
    "print(country_name)\n",
    "print(country_amount)\n",
    "\n",
    "plt.bar(country_name, country_amount, width=0.6)\n",
    "plt.xticks(rotation = -45)\n",
    "plt.ylim([310, 400])\n",
    "plt.yticks([350, 360, 370, 380, 390, 400])"
   ]
  },
  {
   "cell_type": "markdown",
   "metadata": {
    "id": "aX8Jmseb5vcA"
   },
   "source": [
    "## 4. 결론\n",
    "- 질문에 대한 답"
   ]
  }
 ],
 "metadata": {
  "colab": {
   "name": "프로젝트 이름(학번_이름).ipynb의 사본",
   "provenance": [
    {
     "file_id": "1j1_qnnCv1CXvKwJ3ABoIqOIKzh7orFYt",
     "timestamp": 1617858855002
    }
   ]
  },
  "kernelspec": {
   "display_name": "Python 3",
   "language": "python",
   "name": "python3"
  },
  "language_info": {
   "codemirror_mode": {
    "name": "ipython",
    "version": 3
   },
   "file_extension": ".py",
   "mimetype": "text/x-python",
   "name": "python",
   "nbconvert_exporter": "python",
   "pygments_lexer": "ipython3",
   "version": "3.8.5"
  }
 },
 "nbformat": 4,
 "nbformat_minor": 1
}
